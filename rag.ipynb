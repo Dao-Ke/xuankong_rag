{
 "cells": [
  {
   "cell_type": "code",
   "execution_count": 3,
   "metadata": {},
   "outputs": [
    {
     "name": "stderr",
     "output_type": "stream",
     "text": [
      "huggingface/tokenizers: The current process just got forked, after parallelism has already been used. Disabling parallelism to avoid deadlocks...\n",
      "To disable this warning, you can either:\n",
      "\t- Avoid using `tokenizers` before the fork if possible\n",
      "\t- Explicitly set the environment variable TOKENIZERS_PARALLELISM=(true | false)\n"
     ]
    },
    {
     "name": "stdout",
     "output_type": "stream",
     "text": [
      "Looking in indexes: https://pypi.tuna.tsinghua.edu.cn/simple\n",
      "Requirement already satisfied: BCEmbedding==0.1.5 in ./.conda/lib/python3.10/site-packages (0.1.5)\n",
      "Requirement already satisfied: torch>=1.6.0 in ./.conda/lib/python3.10/site-packages (from BCEmbedding==0.1.5) (2.3.1)\n",
      "Requirement already satisfied: transformers<4.37.0,>=4.35.0 in ./.conda/lib/python3.10/site-packages (from BCEmbedding==0.1.5) (4.36.2)\n",
      "Requirement already satisfied: datasets in ./.conda/lib/python3.10/site-packages (from BCEmbedding==0.1.5) (2.20.0)\n",
      "Requirement already satisfied: sentence-transformers in ./.conda/lib/python3.10/site-packages (from BCEmbedding==0.1.5) (3.0.1)\n",
      "Requirement already satisfied: filelock in ./.conda/lib/python3.10/site-packages (from torch>=1.6.0->BCEmbedding==0.1.5) (3.15.1)\n",
      "Requirement already satisfied: typing-extensions>=4.8.0 in ./.conda/lib/python3.10/site-packages (from torch>=1.6.0->BCEmbedding==0.1.5) (4.12.2)\n",
      "Requirement already satisfied: sympy in ./.conda/lib/python3.10/site-packages (from torch>=1.6.0->BCEmbedding==0.1.5) (1.12.1)\n",
      "Requirement already satisfied: networkx in ./.conda/lib/python3.10/site-packages (from torch>=1.6.0->BCEmbedding==0.1.5) (3.3)\n",
      "Requirement already satisfied: jinja2 in ./.conda/lib/python3.10/site-packages (from torch>=1.6.0->BCEmbedding==0.1.5) (3.1.4)\n",
      "Requirement already satisfied: fsspec in ./.conda/lib/python3.10/site-packages (from torch>=1.6.0->BCEmbedding==0.1.5) (2024.5.0)\n",
      "Requirement already satisfied: huggingface-hub<1.0,>=0.19.3 in ./.conda/lib/python3.10/site-packages (from transformers<4.37.0,>=4.35.0->BCEmbedding==0.1.5) (0.23.4)\n",
      "Requirement already satisfied: numpy>=1.17 in ./.conda/lib/python3.10/site-packages (from transformers<4.37.0,>=4.35.0->BCEmbedding==0.1.5) (1.26.4)\n",
      "Requirement already satisfied: packaging>=20.0 in ./.conda/lib/python3.10/site-packages (from transformers<4.37.0,>=4.35.0->BCEmbedding==0.1.5) (24.1)\n",
      "Requirement already satisfied: pyyaml>=5.1 in ./.conda/lib/python3.10/site-packages (from transformers<4.37.0,>=4.35.0->BCEmbedding==0.1.5) (6.0.1)\n",
      "Requirement already satisfied: regex!=2019.12.17 in ./.conda/lib/python3.10/site-packages (from transformers<4.37.0,>=4.35.0->BCEmbedding==0.1.5) (2024.5.15)\n",
      "Requirement already satisfied: requests in ./.conda/lib/python3.10/site-packages (from transformers<4.37.0,>=4.35.0->BCEmbedding==0.1.5) (2.32.3)\n",
      "Requirement already satisfied: tokenizers<0.19,>=0.14 in ./.conda/lib/python3.10/site-packages (from transformers<4.37.0,>=4.35.0->BCEmbedding==0.1.5) (0.15.2)\n",
      "Requirement already satisfied: safetensors>=0.3.1 in ./.conda/lib/python3.10/site-packages (from transformers<4.37.0,>=4.35.0->BCEmbedding==0.1.5) (0.4.3)\n",
      "Requirement already satisfied: tqdm>=4.27 in ./.conda/lib/python3.10/site-packages (from transformers<4.37.0,>=4.35.0->BCEmbedding==0.1.5) (4.66.4)\n",
      "Requirement already satisfied: pyarrow>=15.0.0 in ./.conda/lib/python3.10/site-packages (from datasets->BCEmbedding==0.1.5) (16.1.0)\n",
      "Requirement already satisfied: pyarrow-hotfix in ./.conda/lib/python3.10/site-packages (from datasets->BCEmbedding==0.1.5) (0.6)\n",
      "Requirement already satisfied: dill<0.3.9,>=0.3.0 in ./.conda/lib/python3.10/site-packages (from datasets->BCEmbedding==0.1.5) (0.3.8)\n",
      "Requirement already satisfied: pandas in ./.conda/lib/python3.10/site-packages (from datasets->BCEmbedding==0.1.5) (2.2.2)\n",
      "Requirement already satisfied: xxhash in ./.conda/lib/python3.10/site-packages (from datasets->BCEmbedding==0.1.5) (3.4.1)\n",
      "Requirement already satisfied: multiprocess in ./.conda/lib/python3.10/site-packages (from datasets->BCEmbedding==0.1.5) (0.70.16)\n",
      "Requirement already satisfied: aiohttp in ./.conda/lib/python3.10/site-packages (from datasets->BCEmbedding==0.1.5) (3.9.5)\n",
      "Requirement already satisfied: scikit-learn in ./.conda/lib/python3.10/site-packages (from sentence-transformers->BCEmbedding==0.1.5) (1.5.0)\n",
      "Requirement already satisfied: scipy in ./.conda/lib/python3.10/site-packages (from sentence-transformers->BCEmbedding==0.1.5) (1.13.1)\n",
      "Requirement already satisfied: Pillow in ./.conda/lib/python3.10/site-packages (from sentence-transformers->BCEmbedding==0.1.5) (10.3.0)\n",
      "Requirement already satisfied: aiosignal>=1.1.2 in ./.conda/lib/python3.10/site-packages (from aiohttp->datasets->BCEmbedding==0.1.5) (1.3.1)\n",
      "Requirement already satisfied: attrs>=17.3.0 in ./.conda/lib/python3.10/site-packages (from aiohttp->datasets->BCEmbedding==0.1.5) (23.2.0)\n",
      "Requirement already satisfied: frozenlist>=1.1.1 in ./.conda/lib/python3.10/site-packages (from aiohttp->datasets->BCEmbedding==0.1.5) (1.4.1)\n",
      "Requirement already satisfied: multidict<7.0,>=4.5 in ./.conda/lib/python3.10/site-packages (from aiohttp->datasets->BCEmbedding==0.1.5) (6.0.5)\n",
      "Requirement already satisfied: yarl<2.0,>=1.0 in ./.conda/lib/python3.10/site-packages (from aiohttp->datasets->BCEmbedding==0.1.5) (1.9.4)\n",
      "Requirement already satisfied: async-timeout<5.0,>=4.0 in ./.conda/lib/python3.10/site-packages (from aiohttp->datasets->BCEmbedding==0.1.5) (4.0.3)\n",
      "Requirement already satisfied: charset-normalizer<4,>=2 in ./.conda/lib/python3.10/site-packages (from requests->transformers<4.37.0,>=4.35.0->BCEmbedding==0.1.5) (3.3.2)\n",
      "Requirement already satisfied: idna<4,>=2.5 in ./.conda/lib/python3.10/site-packages (from requests->transformers<4.37.0,>=4.35.0->BCEmbedding==0.1.5) (3.7)\n",
      "Requirement already satisfied: urllib3<3,>=1.21.1 in ./.conda/lib/python3.10/site-packages (from requests->transformers<4.37.0,>=4.35.0->BCEmbedding==0.1.5) (2.2.1)\n",
      "Requirement already satisfied: certifi>=2017.4.17 in ./.conda/lib/python3.10/site-packages (from requests->transformers<4.37.0,>=4.35.0->BCEmbedding==0.1.5) (2024.6.2)\n",
      "Requirement already satisfied: MarkupSafe>=2.0 in ./.conda/lib/python3.10/site-packages (from jinja2->torch>=1.6.0->BCEmbedding==0.1.5) (2.1.5)\n",
      "Requirement already satisfied: python-dateutil>=2.8.2 in ./.conda/lib/python3.10/site-packages (from pandas->datasets->BCEmbedding==0.1.5) (2.9.0)\n",
      "Requirement already satisfied: pytz>=2020.1 in ./.conda/lib/python3.10/site-packages (from pandas->datasets->BCEmbedding==0.1.5) (2024.1)\n",
      "Requirement already satisfied: tzdata>=2022.7 in ./.conda/lib/python3.10/site-packages (from pandas->datasets->BCEmbedding==0.1.5) (2024.1)\n",
      "Requirement already satisfied: joblib>=1.2.0 in ./.conda/lib/python3.10/site-packages (from scikit-learn->sentence-transformers->BCEmbedding==0.1.5) (1.4.2)\n",
      "Requirement already satisfied: threadpoolctl>=3.1.0 in ./.conda/lib/python3.10/site-packages (from scikit-learn->sentence-transformers->BCEmbedding==0.1.5) (3.5.0)\n",
      "Requirement already satisfied: mpmath<1.4.0,>=1.1.0 in ./.conda/lib/python3.10/site-packages (from sympy->torch>=1.6.0->BCEmbedding==0.1.5) (1.3.0)\n",
      "Requirement already satisfied: six>=1.5 in ./.conda/lib/python3.10/site-packages (from python-dateutil>=2.8.2->pandas->datasets->BCEmbedding==0.1.5) (1.16.0)\n",
      "Note: you may need to restart the kernel to use updated packages.\n"
     ]
    },
    {
     "name": "stderr",
     "output_type": "stream",
     "text": [
      "huggingface/tokenizers: The current process just got forked, after parallelism has already been used. Disabling parallelism to avoid deadlocks...\n",
      "To disable this warning, you can either:\n",
      "\t- Avoid using `tokenizers` before the fork if possible\n",
      "\t- Explicitly set the environment variable TOKENIZERS_PARALLELISM=(true | false)\n"
     ]
    },
    {
     "name": "stdout",
     "output_type": "stream",
     "text": [
      "Looking in indexes: https://pypi.tuna.tsinghua.edu.cn/simple\n",
      "Requirement already satisfied: llama-index==0.9.42.post2 in ./.conda/lib/python3.10/site-packages (0.9.42.post2)\n",
      "Requirement already satisfied: SQLAlchemy>=1.4.49 in ./.conda/lib/python3.10/site-packages (from SQLAlchemy[asyncio]>=1.4.49->llama-index==0.9.42.post2) (2.0.30)\n",
      "Requirement already satisfied: aiohttp<4.0.0,>=3.8.6 in ./.conda/lib/python3.10/site-packages (from llama-index==0.9.42.post2) (3.9.5)\n",
      "Requirement already satisfied: dataclasses-json in ./.conda/lib/python3.10/site-packages (from llama-index==0.9.42.post2) (0.6.7)\n",
      "Requirement already satisfied: deprecated>=1.2.9.3 in ./.conda/lib/python3.10/site-packages (from llama-index==0.9.42.post2) (1.2.14)\n",
      "Requirement already satisfied: dirtyjson<2.0.0,>=1.0.8 in ./.conda/lib/python3.10/site-packages (from llama-index==0.9.42.post2) (1.0.8)\n",
      "Requirement already satisfied: fsspec>=2023.5.0 in ./.conda/lib/python3.10/site-packages (from llama-index==0.9.42.post2) (2024.5.0)\n",
      "Requirement already satisfied: httpx in ./.conda/lib/python3.10/site-packages (from llama-index==0.9.42.post2) (0.27.0)\n",
      "Requirement already satisfied: nest-asyncio<2.0.0,>=1.5.8 in ./.conda/lib/python3.10/site-packages (from llama-index==0.9.42.post2) (1.6.0)\n",
      "Requirement already satisfied: networkx>=3.0 in ./.conda/lib/python3.10/site-packages (from llama-index==0.9.42.post2) (3.3)\n",
      "Requirement already satisfied: nltk<4.0.0,>=3.8.1 in ./.conda/lib/python3.10/site-packages (from llama-index==0.9.42.post2) (3.8.1)\n",
      "Requirement already satisfied: numpy in ./.conda/lib/python3.10/site-packages (from llama-index==0.9.42.post2) (1.26.4)\n",
      "Requirement already satisfied: openai>=1.1.0 in ./.conda/lib/python3.10/site-packages (from llama-index==0.9.42.post2) (1.34.0)\n",
      "Requirement already satisfied: pandas in ./.conda/lib/python3.10/site-packages (from llama-index==0.9.42.post2) (2.2.2)\n",
      "Requirement already satisfied: requests>=2.31.0 in ./.conda/lib/python3.10/site-packages (from llama-index==0.9.42.post2) (2.32.3)\n",
      "Requirement already satisfied: tenacity<9.0.0,>=8.2.0 in ./.conda/lib/python3.10/site-packages (from llama-index==0.9.42.post2) (8.3.0)\n",
      "Requirement already satisfied: tiktoken>=0.3.3 in ./.conda/lib/python3.10/site-packages (from llama-index==0.9.42.post2) (0.7.0)\n",
      "Requirement already satisfied: typing-extensions>=4.5.0 in ./.conda/lib/python3.10/site-packages (from llama-index==0.9.42.post2) (4.12.2)\n",
      "Requirement already satisfied: typing-inspect>=0.8.0 in ./.conda/lib/python3.10/site-packages (from llama-index==0.9.42.post2) (0.9.0)\n",
      "Requirement already satisfied: aiosignal>=1.1.2 in ./.conda/lib/python3.10/site-packages (from aiohttp<4.0.0,>=3.8.6->llama-index==0.9.42.post2) (1.3.1)\n",
      "Requirement already satisfied: attrs>=17.3.0 in ./.conda/lib/python3.10/site-packages (from aiohttp<4.0.0,>=3.8.6->llama-index==0.9.42.post2) (23.2.0)\n",
      "Requirement already satisfied: frozenlist>=1.1.1 in ./.conda/lib/python3.10/site-packages (from aiohttp<4.0.0,>=3.8.6->llama-index==0.9.42.post2) (1.4.1)\n",
      "Requirement already satisfied: multidict<7.0,>=4.5 in ./.conda/lib/python3.10/site-packages (from aiohttp<4.0.0,>=3.8.6->llama-index==0.9.42.post2) (6.0.5)\n",
      "Requirement already satisfied: yarl<2.0,>=1.0 in ./.conda/lib/python3.10/site-packages (from aiohttp<4.0.0,>=3.8.6->llama-index==0.9.42.post2) (1.9.4)\n",
      "Requirement already satisfied: async-timeout<5.0,>=4.0 in ./.conda/lib/python3.10/site-packages (from aiohttp<4.0.0,>=3.8.6->llama-index==0.9.42.post2) (4.0.3)\n",
      "Requirement already satisfied: wrapt<2,>=1.10 in ./.conda/lib/python3.10/site-packages (from deprecated>=1.2.9.3->llama-index==0.9.42.post2) (1.16.0)\n",
      "Requirement already satisfied: click in ./.conda/lib/python3.10/site-packages (from nltk<4.0.0,>=3.8.1->llama-index==0.9.42.post2) (8.1.7)\n",
      "Requirement already satisfied: joblib in ./.conda/lib/python3.10/site-packages (from nltk<4.0.0,>=3.8.1->llama-index==0.9.42.post2) (1.4.2)\n",
      "Requirement already satisfied: regex>=2021.8.3 in ./.conda/lib/python3.10/site-packages (from nltk<4.0.0,>=3.8.1->llama-index==0.9.42.post2) (2024.5.15)\n",
      "Requirement already satisfied: tqdm in ./.conda/lib/python3.10/site-packages (from nltk<4.0.0,>=3.8.1->llama-index==0.9.42.post2) (4.66.4)\n",
      "Requirement already satisfied: anyio<5,>=3.5.0 in ./.conda/lib/python3.10/site-packages (from openai>=1.1.0->llama-index==0.9.42.post2) (4.4.0)\n",
      "Requirement already satisfied: distro<2,>=1.7.0 in ./.conda/lib/python3.10/site-packages (from openai>=1.1.0->llama-index==0.9.42.post2) (1.9.0)\n",
      "Requirement already satisfied: pydantic<3,>=1.9.0 in ./.conda/lib/python3.10/site-packages (from openai>=1.1.0->llama-index==0.9.42.post2) (2.7.4)\n",
      "Requirement already satisfied: sniffio in ./.conda/lib/python3.10/site-packages (from openai>=1.1.0->llama-index==0.9.42.post2) (1.3.1)\n",
      "Requirement already satisfied: certifi in ./.conda/lib/python3.10/site-packages (from httpx->llama-index==0.9.42.post2) (2024.6.2)\n",
      "Requirement already satisfied: httpcore==1.* in ./.conda/lib/python3.10/site-packages (from httpx->llama-index==0.9.42.post2) (1.0.5)\n",
      "Requirement already satisfied: idna in ./.conda/lib/python3.10/site-packages (from httpx->llama-index==0.9.42.post2) (3.7)\n",
      "Requirement already satisfied: h11<0.15,>=0.13 in ./.conda/lib/python3.10/site-packages (from httpcore==1.*->httpx->llama-index==0.9.42.post2) (0.14.0)\n",
      "Requirement already satisfied: charset-normalizer<4,>=2 in ./.conda/lib/python3.10/site-packages (from requests>=2.31.0->llama-index==0.9.42.post2) (3.3.2)\n",
      "Requirement already satisfied: urllib3<3,>=1.21.1 in ./.conda/lib/python3.10/site-packages (from requests>=2.31.0->llama-index==0.9.42.post2) (2.2.1)\n",
      "Requirement already satisfied: greenlet!=0.4.17 in ./.conda/lib/python3.10/site-packages (from SQLAlchemy[asyncio]>=1.4.49->llama-index==0.9.42.post2) (3.0.3)\n",
      "Requirement already satisfied: mypy-extensions>=0.3.0 in ./.conda/lib/python3.10/site-packages (from typing-inspect>=0.8.0->llama-index==0.9.42.post2) (1.0.0)\n",
      "Requirement already satisfied: marshmallow<4.0.0,>=3.18.0 in ./.conda/lib/python3.10/site-packages (from dataclasses-json->llama-index==0.9.42.post2) (3.21.3)\n",
      "Requirement already satisfied: python-dateutil>=2.8.2 in ./.conda/lib/python3.10/site-packages (from pandas->llama-index==0.9.42.post2) (2.9.0)\n",
      "Requirement already satisfied: pytz>=2020.1 in ./.conda/lib/python3.10/site-packages (from pandas->llama-index==0.9.42.post2) (2024.1)\n",
      "Requirement already satisfied: tzdata>=2022.7 in ./.conda/lib/python3.10/site-packages (from pandas->llama-index==0.9.42.post2) (2024.1)\n",
      "Requirement already satisfied: exceptiongroup>=1.0.2 in ./.conda/lib/python3.10/site-packages (from anyio<5,>=3.5.0->openai>=1.1.0->llama-index==0.9.42.post2) (1.2.0)\n",
      "Requirement already satisfied: packaging>=17.0 in ./.conda/lib/python3.10/site-packages (from marshmallow<4.0.0,>=3.18.0->dataclasses-json->llama-index==0.9.42.post2) (24.1)\n",
      "Requirement already satisfied: annotated-types>=0.4.0 in ./.conda/lib/python3.10/site-packages (from pydantic<3,>=1.9.0->openai>=1.1.0->llama-index==0.9.42.post2) (0.7.0)\n",
      "Requirement already satisfied: pydantic-core==2.18.4 in ./.conda/lib/python3.10/site-packages (from pydantic<3,>=1.9.0->openai>=1.1.0->llama-index==0.9.42.post2) (2.18.4)\n",
      "Requirement already satisfied: six>=1.5 in ./.conda/lib/python3.10/site-packages (from python-dateutil>=2.8.2->pandas->llama-index==0.9.42.post2) (1.16.0)\n",
      "Note: you may need to restart the kernel to use updated packages.\n"
     ]
    },
    {
     "name": "stderr",
     "output_type": "stream",
     "text": [
      "huggingface/tokenizers: The current process just got forked, after parallelism has already been used. Disabling parallelism to avoid deadlocks...\n",
      "To disable this warning, you can either:\n",
      "\t- Avoid using `tokenizers` before the fork if possible\n",
      "\t- Explicitly set the environment variable TOKENIZERS_PARALLELISM=(true | false)\n"
     ]
    },
    {
     "name": "stdout",
     "output_type": "stream",
     "text": [
      "Looking in indexes: https://pypi.tuna.tsinghua.edu.cn/simple\n",
      "Collecting pypdf\n",
      "  Using cached https://pypi.tuna.tsinghua.edu.cn/packages/c9/d1/450b19bbdbb2c802f554312c62ce2a2c0d8744fe14735bc70ad2803578c7/pypdf-4.2.0-py3-none-any.whl (290 kB)\n",
      "Requirement already satisfied: typing_extensions>=4.0 in ./.conda/lib/python3.10/site-packages (from pypdf) (4.12.2)\n",
      "Installing collected packages: pypdf\n",
      "Successfully installed pypdf-4.2.0\n",
      "Note: you may need to restart the kernel to use updated packages.\n"
     ]
    }
   ],
   "source": [
    "%pip install BCEmbedding==0.1.5\n",
    "%pip install llama-index==0.9.42.post2\n",
    "%pip install pypdf"
   ]
  },
  {
   "cell_type": "code",
   "execution_count": 8,
   "metadata": {},
   "outputs": [
    {
     "name": "stderr",
     "output_type": "stream",
     "text": [
      "/Users/song/dev/project/py/RAG1/.conda/lib/python3.10/site-packages/huggingface_hub/file_download.py:1132: FutureWarning: `resume_download` is deprecated and will be removed in version 1.0.0. Downloads always resume when possible. If you want to force a new download, use `force_download=True`.\n",
      "  warnings.warn(\n",
      "06/14/2024 23:55:10 - [INFO] -BCEmbedding.models.RerankerModel->>>    Loading from `maidalun1020/bce-reranker-base_v1`.\n",
      "06/14/2024 23:55:10 - [INFO] -BCEmbedding.models.RerankerModel->>>    Execute device: cpu;\t gpu num: 0;\t use fp16: False\n",
      "You're using a XLMRobertaTokenizerFast tokenizer. Please note that with a fast tokenizer, using the `__call__` method is faster than using a method to encode the text followed by a call to the `pad` method to get a padded encoding.\n",
      "06/14/2024 23:59:45 - [INFO] -httpx->>>    HTTP Request: POST http://localhost:11434/api/chat \"HTTP/1.1 200 OK\"\n"
     ]
    }
   ],
   "source": [
    "from BCEmbedding.tools.llama_index import BCERerank\n",
    "\n",
    "from llama_index.embeddings import HuggingFaceEmbedding\n",
    "from llama_index import VectorStoreIndex, ServiceContext, SimpleDirectoryReader\n",
    "from llama_index.node_parser import SimpleNodeParser\n",
    "from llama_index.llms import Ollama\n",
    "\n",
    "# init embedding model and reranker model\n",
    "embed_args = {'model_name': 'maidalun1020/bce-embedding-base_v1', 'max_length': 512, 'embed_batch_size': 32}\n",
    "embed_model = HuggingFaceEmbedding(**embed_args)\n",
    "\n",
    "reranker_args = {'model': 'maidalun1020/bce-reranker-base_v1', 'top_n': 5}\n",
    "reranker_model = BCERerank(**reranker_args)\n",
    "\n",
    "llm = Ollama(model=\"qwen2:7b\", request_timeout=120.0)\n",
    "service_context = ServiceContext.from_defaults(llm=llm, embed_model=embed_model)\n",
    "\n",
    "documents = SimpleDirectoryReader(input_files=[\"pdf/玄空风水学核心秘本.pdf\"]).load_data()\n",
    "\n",
    "node_parser = SimpleNodeParser.from_defaults(chunk_size=400, chunk_overlap=80)\n",
    "nodes = node_parser.get_nodes_from_documents(documents[0:36])\n",
    "index = VectorStoreIndex(nodes, service_context=service_context)\n",
    "\n",
    "query = \"什么是 方位理气，山水取舍?\"\n",
    "\n",
    "query_engine = index.as_query_engine(node_postprocessors=[reranker_model])\n",
    "query_response = query_engine.query(query)"
   ]
  },
  {
   "cell_type": "code",
   "execution_count": 9,
   "metadata": {},
   "outputs": [
    {
     "name": "stdout",
     "output_type": "stream",
     "text": [
      "方位理气和山水取舍是玄空风水学中的两个核心概念。方位理气涉及到对风水方位的考虑，包括阴阳、冲和等原则。这与气象学相关，指的是如何根据自然界的风向和气候条件来选择和调整建筑或墓地的位置。\n",
      "\n",
      "山水取舍则主要关注地形地貌的选择，包括山川格局、土质、土色等因素。这些因素受到地质学的影响，因此在玄空风水学中，对于地形和地质的评估同样被视为科学化的学术研究。通过对山水特性的分析和选择，可以确定一个地点是否能够聚集或分散能量（气），从而影响到居住其中的人的命运、财富等方面。\n",
      "\n",
      "简而言之，方位理气与地理位置、气候条件有关，而山水取舍则关注于自然环境本身的特点及其对人类生活可能产生的影响。\n"
     ]
    }
   ],
   "source": [
    "print(query_response)"
   ]
  },
  {
   "cell_type": "code",
   "execution_count": 10,
   "metadata": {},
   "outputs": [
    {
     "name": "stderr",
     "output_type": "stream",
     "text": [
      "06/15/2024 18:52:31 - [INFO] -httpx->>>    HTTP Request: POST http://localhost:11434/api/chat \"HTTP/1.1 200 OK\"\n"
     ]
    },
    {
     "name": "stdout",
     "output_type": "stream",
     "text": [
      "在地理学中，最重要的元素莫过于“穴”或龙穴。穴是生气聚集的地方，其重要性在于它是自然界的能量汇聚之地。为了有效地聚气并避免其扩散，以下几个关键要素被强调：\n",
      "\n",
      "1. **入首**：这是来龙（山脉）开始分叉或变化的部位，象征着整个地形的核心和起点。\n",
      "\n",
      "2. **大龙虎砂**：位于入首附近的左右两侧山丘，如同人的双手一样，为内部的小龙虎砂提供支持。这些山丘有助于稳定能量并将其向中汇聚。\n",
      "\n",
      "3. **内八字**：以近身的内外八字（即山脉的走势）作为衡量标准来确定穴的位置和形态。内外八字的正确运用有助于确保能量的聚拢而不散逸。\n",
      "\n",
      "4. **八小砂**：在入首内部，有八个方向的小山丘或地形特征（小龙虎），它们聚集于中央，如同人体两股之间的区域，是结穴的理想位置。结穴是指能量的凝结和聚集。\n",
      "\n",
      "5. **阴阳土色**：在选择穴地时，考虑土壤的颜色以及阴阳属性（阴中取阳，阳中取阴）是非常重要的。这有助于平衡周围的能量场，并确保其稳定性和可持续性。\n",
      "\n",
      "6. **避风避水**：位置应避免直接的风吹和水分积聚，因为这两者都会导致能量的流失或干扰。因此，在选择穴地时，需要考虑地形如何能够保护这一区域免受外部因素的影响。\n",
      "\n",
      "综上所述，“穴”是最重要的元素之一，通过正确的选址、利用自然地形以及遵循阴阳平衡的原则，可以有效地聚气而不散逸，达到风水学中的理想状态。\n"
     ]
    }
   ],
   "source": [
    "query_2 = \"龙穴砂水向，谁最重要？如何聚气不散？\"\n",
    "query_response2 = query_engine.query(query_2)\n",
    "print(query_response2)"
   ]
  }
 ],
 "metadata": {
  "kernelspec": {
   "display_name": "Python 3",
   "language": "python",
   "name": "python3"
  },
  "language_info": {
   "codemirror_mode": {
    "name": "ipython",
    "version": 3
   },
   "file_extension": ".py",
   "mimetype": "text/x-python",
   "name": "python",
   "nbconvert_exporter": "python",
   "pygments_lexer": "ipython3",
   "version": "3.10.14"
  }
 },
 "nbformat": 4,
 "nbformat_minor": 2
}
